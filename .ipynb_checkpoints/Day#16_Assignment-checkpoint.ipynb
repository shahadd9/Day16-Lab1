{
 "cells": [
  {
   "cell_type": "code",
   "execution_count": 1,
   "metadata": {},
   "outputs": [],
   "source": [
    "## Import libraries to read dataset named Loan Default\n",
    "## Import proper statistical library\n",
    "import statistics\n",
    "import pandas as pd\n",
    "import pandasql as ps\n"
   ]
  },
  {
   "cell_type": "code",
   "execution_count": 2,
   "metadata": {
    "scrolled": true
   },
   "outputs": [
    {
     "data": {
      "text/html": [
       "<div>\n",
       "<style scoped>\n",
       "    .dataframe tbody tr th:only-of-type {\n",
       "        vertical-align: middle;\n",
       "    }\n",
       "\n",
       "    .dataframe tbody tr th {\n",
       "        vertical-align: top;\n",
       "    }\n",
       "\n",
       "    .dataframe thead th {\n",
       "        text-align: right;\n",
       "    }\n",
       "</style>\n",
       "<table border=\"1\" class=\"dataframe\">\n",
       "  <thead>\n",
       "    <tr style=\"text-align: right;\">\n",
       "      <th></th>\n",
       "      <th>UNIQUEID</th>\n",
       "      <th>DISBURSED_AMOUNT</th>\n",
       "      <th>ASSET_COST</th>\n",
       "      <th>LTV</th>\n",
       "      <th>BRANCH_ID</th>\n",
       "      <th>SUPPLIER_ID</th>\n",
       "      <th>MANUFACTURER_ID</th>\n",
       "      <th>CURRENT_PINCODE_ID</th>\n",
       "      <th>DATE_OF_BIRTH</th>\n",
       "      <th>EMPLOYMENT_TYPE</th>\n",
       "      <th>...</th>\n",
       "      <th>SEC_CURRENT_BALANCE</th>\n",
       "      <th>SEC_SANCTIONED_AMOUNT</th>\n",
       "      <th>SEC_DISBURSED_AMOUNT</th>\n",
       "      <th>PRIMARY_INSTAL_AMT</th>\n",
       "      <th>SEC_INSTAL_AMT</th>\n",
       "      <th>NEW_ACCTS_IN_LAST_SIX_MONTHS</th>\n",
       "      <th>DELINQUENT_ACCTS_IN_LAST_SIX_MONTHS</th>\n",
       "      <th>AVERAGE_ACCT_AGE</th>\n",
       "      <th>CREDIT_HISTORY_LENGTH</th>\n",
       "      <th>NO_OF_INQUIRIES</th>\n",
       "    </tr>\n",
       "  </thead>\n",
       "  <tbody>\n",
       "    <tr>\n",
       "      <th>0</th>\n",
       "      <td>655269</td>\n",
       "      <td>53478</td>\n",
       "      <td>63558</td>\n",
       "      <td>86.54</td>\n",
       "      <td>67</td>\n",
       "      <td>22807</td>\n",
       "      <td>45</td>\n",
       "      <td>1497</td>\n",
       "      <td>01-01-1974</td>\n",
       "      <td>Salaried</td>\n",
       "      <td>...</td>\n",
       "      <td>0</td>\n",
       "      <td>0</td>\n",
       "      <td>0</td>\n",
       "      <td>0</td>\n",
       "      <td>0</td>\n",
       "      <td>0</td>\n",
       "      <td>0</td>\n",
       "      <td>0yrs 0mon</td>\n",
       "      <td>0yrs 0mon</td>\n",
       "      <td>0</td>\n",
       "    </tr>\n",
       "    <tr>\n",
       "      <th>1</th>\n",
       "      <td>723482</td>\n",
       "      <td>55513</td>\n",
       "      <td>63163</td>\n",
       "      <td>89.45</td>\n",
       "      <td>67</td>\n",
       "      <td>22807</td>\n",
       "      <td>45</td>\n",
       "      <td>1497</td>\n",
       "      <td>20-05-1985</td>\n",
       "      <td>Self employed</td>\n",
       "      <td>...</td>\n",
       "      <td>0</td>\n",
       "      <td>0</td>\n",
       "      <td>0</td>\n",
       "      <td>5605</td>\n",
       "      <td>0</td>\n",
       "      <td>1</td>\n",
       "      <td>0</td>\n",
       "      <td>0yrs 8mon</td>\n",
       "      <td>1yrs 0mon</td>\n",
       "      <td>1</td>\n",
       "    </tr>\n",
       "    <tr>\n",
       "      <th>2</th>\n",
       "      <td>758529</td>\n",
       "      <td>65282</td>\n",
       "      <td>84320</td>\n",
       "      <td>79.93</td>\n",
       "      <td>78</td>\n",
       "      <td>23135</td>\n",
       "      <td>86</td>\n",
       "      <td>2071</td>\n",
       "      <td>14-10-1995</td>\n",
       "      <td>Salaried</td>\n",
       "      <td>...</td>\n",
       "      <td>0</td>\n",
       "      <td>0</td>\n",
       "      <td>0</td>\n",
       "      <td>0</td>\n",
       "      <td>0</td>\n",
       "      <td>0</td>\n",
       "      <td>0</td>\n",
       "      <td>0yrs 0mon</td>\n",
       "      <td>0yrs 0mon</td>\n",
       "      <td>0</td>\n",
       "    </tr>\n",
       "    <tr>\n",
       "      <th>3</th>\n",
       "      <td>763449</td>\n",
       "      <td>46905</td>\n",
       "      <td>63896</td>\n",
       "      <td>76.58</td>\n",
       "      <td>78</td>\n",
       "      <td>17014</td>\n",
       "      <td>45</td>\n",
       "      <td>2070</td>\n",
       "      <td>01-06-1973</td>\n",
       "      <td>Self employed</td>\n",
       "      <td>...</td>\n",
       "      <td>0</td>\n",
       "      <td>0</td>\n",
       "      <td>0</td>\n",
       "      <td>0</td>\n",
       "      <td>0</td>\n",
       "      <td>0</td>\n",
       "      <td>0</td>\n",
       "      <td>2yrs 5mon</td>\n",
       "      <td>2yrs 5mon</td>\n",
       "      <td>0</td>\n",
       "    </tr>\n",
       "    <tr>\n",
       "      <th>4</th>\n",
       "      <td>708663</td>\n",
       "      <td>51428</td>\n",
       "      <td>63896</td>\n",
       "      <td>86.08</td>\n",
       "      <td>78</td>\n",
       "      <td>17014</td>\n",
       "      <td>45</td>\n",
       "      <td>2069</td>\n",
       "      <td>01-06-1972</td>\n",
       "      <td>Salaried</td>\n",
       "      <td>...</td>\n",
       "      <td>0</td>\n",
       "      <td>0</td>\n",
       "      <td>0</td>\n",
       "      <td>0</td>\n",
       "      <td>0</td>\n",
       "      <td>0</td>\n",
       "      <td>0</td>\n",
       "      <td>0yrs 0mon</td>\n",
       "      <td>0yrs 0mon</td>\n",
       "      <td>0</td>\n",
       "    </tr>\n",
       "  </tbody>\n",
       "</table>\n",
       "<p>5 rows × 40 columns</p>\n",
       "</div>"
      ],
      "text/plain": [
       "   UNIQUEID  DISBURSED_AMOUNT  ASSET_COST    LTV  BRANCH_ID  SUPPLIER_ID  \\\n",
       "0    655269             53478       63558  86.54         67        22807   \n",
       "1    723482             55513       63163  89.45         67        22807   \n",
       "2    758529             65282       84320  79.93         78        23135   \n",
       "3    763449             46905       63896  76.58         78        17014   \n",
       "4    708663             51428       63896  86.08         78        17014   \n",
       "\n",
       "   MANUFACTURER_ID  CURRENT_PINCODE_ID DATE_OF_BIRTH EMPLOYMENT_TYPE  ...  \\\n",
       "0               45                1497    01-01-1974        Salaried  ...   \n",
       "1               45                1497    20-05-1985   Self employed  ...   \n",
       "2               86                2071    14-10-1995        Salaried  ...   \n",
       "3               45                2070    01-06-1973   Self employed  ...   \n",
       "4               45                2069    01-06-1972        Salaried  ...   \n",
       "\n",
       "  SEC_CURRENT_BALANCE  SEC_SANCTIONED_AMOUNT  SEC_DISBURSED_AMOUNT  \\\n",
       "0                   0                      0                     0   \n",
       "1                   0                      0                     0   \n",
       "2                   0                      0                     0   \n",
       "3                   0                      0                     0   \n",
       "4                   0                      0                     0   \n",
       "\n",
       "   PRIMARY_INSTAL_AMT  SEC_INSTAL_AMT  NEW_ACCTS_IN_LAST_SIX_MONTHS  \\\n",
       "0                   0               0                             0   \n",
       "1                5605               0                             1   \n",
       "2                   0               0                             0   \n",
       "3                   0               0                             0   \n",
       "4                   0               0                             0   \n",
       "\n",
       "   DELINQUENT_ACCTS_IN_LAST_SIX_MONTHS  AVERAGE_ACCT_AGE  \\\n",
       "0                                    0         0yrs 0mon   \n",
       "1                                    0         0yrs 8mon   \n",
       "2                                    0         0yrs 0mon   \n",
       "3                                    0         2yrs 5mon   \n",
       "4                                    0         0yrs 0mon   \n",
       "\n",
       "   CREDIT_HISTORY_LENGTH  NO_OF_INQUIRIES  \n",
       "0              0yrs 0mon                0  \n",
       "1              1yrs 0mon                1  \n",
       "2              0yrs 0mon                0  \n",
       "3              2yrs 5mon                0  \n",
       "4              0yrs 0mon                0  \n",
       "\n",
       "[5 rows x 40 columns]"
      ]
     },
     "execution_count": 2,
     "metadata": {},
     "output_type": "execute_result"
    }
   ],
   "source": [
    "df=pd.read_csv('Loan_Defaults.csv')\n",
    "df.head()"
   ]
  },
  {
   "cell_type": "code",
   "execution_count": 3,
   "metadata": {
    "scrolled": true
   },
   "outputs": [
    {
     "name": "stdout",
     "output_type": "stream",
     "text": [
      "<class 'pandas.core.frame.DataFrame'>\n",
      "RangeIndex: 112392 entries, 0 to 112391\n",
      "Data columns (total 40 columns):\n",
      " #   Column                               Non-Null Count   Dtype  \n",
      "---  ------                               --------------   -----  \n",
      " 0   UNIQUEID                             112392 non-null  int64  \n",
      " 1   DISBURSED_AMOUNT                     112392 non-null  int64  \n",
      " 2   ASSET_COST                           112392 non-null  int64  \n",
      " 3   LTV                                  112392 non-null  float64\n",
      " 4   BRANCH_ID                            112392 non-null  int64  \n",
      " 5   SUPPLIER_ID                          112392 non-null  int64  \n",
      " 6   MANUFACTURER_ID                      112392 non-null  int64  \n",
      " 7   CURRENT_PINCODE_ID                   112392 non-null  int64  \n",
      " 8   DATE_OF_BIRTH                        112392 non-null  object \n",
      " 9   EMPLOYMENT_TYPE                      108949 non-null  object \n",
      " 10  DISBURSAL_DATE                       112392 non-null  object \n",
      " 11  STATE_ID                             112392 non-null  int64  \n",
      " 12  EMPLOYEE_CODE_ID                     112392 non-null  int64  \n",
      " 13  MOBILENO_AVL_FLAG                    112392 non-null  int64  \n",
      " 14  AADHAR_FLAG                          112392 non-null  int64  \n",
      " 15  PAN_FLAG                             112392 non-null  int64  \n",
      " 16  VOTERID_FLAG                         112392 non-null  int64  \n",
      " 17  DRIVING_FLAG                         112392 non-null  int64  \n",
      " 18  PASSPORT_FLAG                        112392 non-null  int64  \n",
      " 19  PERFORM_CNS_SCORE                    112392 non-null  int64  \n",
      " 20  PERFORM_CNS_SCORE_DESCRIPTION        112392 non-null  object \n",
      " 21  PRI_NO_OF_ACCTS                      112392 non-null  int64  \n",
      " 22  PRI_ACTIVE_ACCTS                     112392 non-null  int64  \n",
      " 23  PRI_OVERDUE_ACCTS                    112392 non-null  int64  \n",
      " 24  PRI_CURRENT_BALANCE                  112392 non-null  int64  \n",
      " 25  PRI_SANCTIONED_AMOUNT                112392 non-null  int64  \n",
      " 26  PRI_DISBURSED_AMOUNT                 112392 non-null  int64  \n",
      " 27  SEC_NO_OF_ACCTS                      112392 non-null  int64  \n",
      " 28  SEC_ACTIVE_ACCTS                     112392 non-null  int64  \n",
      " 29  SEC_OVERDUE_ACCTS                    112392 non-null  int64  \n",
      " 30  SEC_CURRENT_BALANCE                  112392 non-null  int64  \n",
      " 31  SEC_SANCTIONED_AMOUNT                112392 non-null  int64  \n",
      " 32  SEC_DISBURSED_AMOUNT                 112392 non-null  int64  \n",
      " 33  PRIMARY_INSTAL_AMT                   112392 non-null  int64  \n",
      " 34  SEC_INSTAL_AMT                       112392 non-null  int64  \n",
      " 35  NEW_ACCTS_IN_LAST_SIX_MONTHS         112392 non-null  int64  \n",
      " 36  DELINQUENT_ACCTS_IN_LAST_SIX_MONTHS  112392 non-null  int64  \n",
      " 37  AVERAGE_ACCT_AGE                     112392 non-null  object \n",
      " 38  CREDIT_HISTORY_LENGTH                112392 non-null  object \n",
      " 39  NO_OF_INQUIRIES                      112392 non-null  int64  \n",
      "dtypes: float64(1), int64(33), object(6)\n",
      "memory usage: 34.3+ MB\n"
     ]
    }
   ],
   "source": [
    "df.info()"
   ]
  },
  {
   "cell_type": "code",
   "execution_count": 4,
   "metadata": {},
   "outputs": [
    {
     "data": {
      "text/plain": [
       "0yrs 0mon      58051\n",
       "0yrs 6mon       2695\n",
       "0yrs 7mon       2226\n",
       "2yrs 1mon       2187\n",
       "2yrs 0mon       1929\n",
       "               ...  \n",
       "23yrs 8mon         1\n",
       "18yrs 11mon        1\n",
       "21yrs 0mon         1\n",
       "25yrs 8mon         1\n",
       "16yrs 11mon        1\n",
       "Name: CREDIT_HISTORY_LENGTH, Length: 252, dtype: int64"
      ]
     },
     "execution_count": 4,
     "metadata": {},
     "output_type": "execute_result"
    }
   ],
   "source": [
    "df['CREDIT_HISTORY_LENGTH'].value_counts()"
   ]
  },
  {
   "cell_type": "code",
   "execution_count": 5,
   "metadata": {
    "scrolled": true
   },
   "outputs": [
    {
     "data": {
      "text/plain": [
       "56076.80326891594"
      ]
     },
     "execution_count": 5,
     "metadata": {},
     "output_type": "execute_result"
    }
   ],
   "source": [
    "## Calculate Mean, Median, Mode, and Standard Deviation of the amount of Loan disbursed in the column named disbursed_amount.\n",
    "# Explain your findings for a value of your choice\n",
    "\n",
    "df['DISBURSED_AMOUNT'].mean()\n"
   ]
  },
  {
   "cell_type": "code",
   "execution_count": 6,
   "metadata": {},
   "outputs": [
    {
     "data": {
      "text/plain": [
       "55359.0"
      ]
     },
     "execution_count": 6,
     "metadata": {},
     "output_type": "execute_result"
    }
   ],
   "source": [
    "df['DISBURSED_AMOUNT'].median()"
   ]
  },
  {
   "cell_type": "code",
   "execution_count": 7,
   "metadata": {},
   "outputs": [
    {
     "data": {
      "text/plain": [
       "0    53303\n",
       "dtype: int64"
      ]
     },
     "execution_count": 7,
     "metadata": {},
     "output_type": "execute_result"
    }
   ],
   "source": [
    "df['DISBURSED_AMOUNT'].mode()"
   ]
  },
  {
   "cell_type": "code",
   "execution_count": 8,
   "metadata": {},
   "outputs": [
    {
     "data": {
      "text/plain": [
       "13123.69762745021"
      ]
     },
     "execution_count": 8,
     "metadata": {},
     "output_type": "execute_result"
    }
   ],
   "source": [
    "statistics.stdev(df['DISBURSED_AMOUNT'])"
   ]
  },
  {
   "cell_type": "code",
   "execution_count": 9,
   "metadata": {},
   "outputs": [],
   "source": [
    "## Write a SQL query to calculate the mean of the variable disbursed_amount. Let the table be loan_defaults.\n",
    "# These conditions applies to the query results:  for the salaried segment who have the time since their first loan been over 9 years"
   ]
  },
  {
   "cell_type": "code",
   "execution_count": 10,
   "metadata": {},
   "outputs": [
    {
     "name": "stdout",
     "output_type": "stream",
     "text": [
      "   AVG(DISBURSED_AMOUNT)\n",
      "0           56076.803269\n"
     ]
    }
   ],
   "source": [
    "\n",
    "q1 = \"\"\"SELECT AVG(DISBURSED_AMOUNT) FROM df \"\"\"\n",
    "\n",
    "print(ps.sqldf(q1, locals()))"
   ]
  },
  {
   "cell_type": "code",
   "execution_count": 11,
   "metadata": {},
   "outputs": [
    {
     "data": {
      "text/plain": [
       "0         0\n",
       "1         0\n",
       "2         0\n",
       "3         0\n",
       "4         0\n",
       "         ..\n",
       "112387    0\n",
       "112388    0\n",
       "112389    0\n",
       "112390    0\n",
       "112391    0\n",
       "Name: CREDIT_HISTORY_LENGTH, Length: 112392, dtype: int64"
      ]
     },
     "execution_count": 11,
     "metadata": {},
     "output_type": "execute_result"
    }
   ],
   "source": [
    "df['CREDIT_HISTORY_LENGTH'].str.index('')"
   ]
  },
  {
   "cell_type": "code",
   "execution_count": 12,
   "metadata": {},
   "outputs": [],
   "source": [
    "df['Years']=df[\"CREDIT_HISTORY_LENGTH\"].str.extract(\"(\\d+)yrs\")\n"
   ]
  },
  {
   "cell_type": "code",
   "execution_count": 13,
   "metadata": {},
   "outputs": [
    {
     "data": {
      "text/plain": [
       "0     72562\n",
       "1     12524\n",
       "2     10658\n",
       "3      5610\n",
       "4      3555\n",
       "5      2263\n",
       "6      1366\n",
       "7       906\n",
       "8       698\n",
       "11      464\n",
       "10      464\n",
       "9       463\n",
       "12      348\n",
       "13      190\n",
       "14      115\n",
       "15       82\n",
       "16       46\n",
       "17       21\n",
       "19       13\n",
       "18       12\n",
       "21       10\n",
       "20        8\n",
       "25        5\n",
       "22        3\n",
       "24        2\n",
       "23        2\n",
       "37        1\n",
       "33        1\n",
       "Name: Years, dtype: int64"
      ]
     },
     "execution_count": 13,
     "metadata": {},
     "output_type": "execute_result"
    }
   ],
   "source": [
    "df['Years'].value_counts()"
   ]
  },
  {
   "cell_type": "code",
   "execution_count": 14,
   "metadata": {},
   "outputs": [],
   "source": [
    "df['Years']=df['Years'].astype(int)"
   ]
  },
  {
   "cell_type": "code",
   "execution_count": 15,
   "metadata": {},
   "outputs": [
    {
     "name": "stdout",
     "output_type": "stream",
     "text": [
      "    EMPLOYMENT_TYPE CREDIT_HISTORY_LENGTH\n",
      "0          Salaried            10yrs 5mon\n",
      "1          Salaried           12yrs 11mon\n",
      "2          Salaried            10yrs 1mon\n",
      "3          Salaried           10yrs 11mon\n",
      "4          Salaried           10yrs 11mon\n",
      "..              ...                   ...\n",
      "785        Salaried            11yrs 4mon\n",
      "786        Salaried           13yrs 10mon\n",
      "787        Salaried            11yrs 0mon\n",
      "788        Salaried           10yrs 11mon\n",
      "789        Salaried            11yrs 2mon\n",
      "\n",
      "[790 rows x 2 columns]\n"
     ]
    }
   ],
   "source": [
    "q2 = \"\"\"SELECT EMPLOYMENT_TYPE,CREDIT_HISTORY_LENGTH FROM df WHERE EMPLOYMENT_TYPE =='Salaried' and  years > 9 \"\"\"\n",
    "\n",
    "print(ps.sqldf(q2, locals()))"
   ]
  },
  {
   "cell_type": "code",
   "execution_count": null,
   "metadata": {},
   "outputs": [],
   "source": []
  }
 ],
 "metadata": {
  "kernelspec": {
   "display_name": "Python 3",
   "language": "python",
   "name": "python3"
  },
  "language_info": {
   "codemirror_mode": {
    "name": "ipython",
    "version": 3
   },
   "file_extension": ".py",
   "mimetype": "text/x-python",
   "name": "python",
   "nbconvert_exporter": "python",
   "pygments_lexer": "ipython3",
   "version": "3.8.5"
  },
  "vscode": {
   "interpreter": {
    "hash": "31f2aee4e71d21fbe5cf8b01ff0e069b9275f58929596ceb00d14d90e3e16cd6"
   }
  }
 },
 "nbformat": 4,
 "nbformat_minor": 2
}
